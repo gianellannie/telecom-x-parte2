{
  "nbformat": 4,
  "nbformat_minor": 0,
  "metadata": {
    "colab": {
      "provenance": [],
      "authorship_tag": "ABX9TyN4LQzQkkx9uxpmFrsjknGe",
      "include_colab_link": true
    },
    "kernelspec": {
      "name": "python3",
      "display_name": "Python 3"
    },
    "language_info": {
      "name": "python"
    }
  },
  "cells": [
    {
      "cell_type": "markdown",
      "metadata": {
        "id": "view-in-github",
        "colab_type": "text"
      },
      "source": [
        "<a href=\"https://colab.research.google.com/github/gianellannie/telecom-x-parte2/blob/main/TelecomX_LATAM_parte2.ipynb\" target=\"_parent\"><img src=\"https://colab.research.google.com/assets/colab-badge.svg\" alt=\"Open In Colab\"/></a>"
      ]
    },
    {
      "cell_type": "markdown",
      "source": [
        "# **1. Preparación de los Datos**"
      ],
      "metadata": {
        "id": "GTgfUFOGH8BU"
      }
    },
    {
      "cell_type": "code",
      "execution_count": null,
      "metadata": {
        "id": "9sOzYxFCH0RT"
      },
      "outputs": [],
      "source": []
    },
    {
      "cell_type": "markdown",
      "source": [
        "# **2. Correlación y Selección de Variables**"
      ],
      "metadata": {
        "id": "R2RjXgPSH_iq"
      }
    },
    {
      "cell_type": "code",
      "source": [],
      "metadata": {
        "id": "0oHy_aU2IIx6"
      },
      "execution_count": null,
      "outputs": []
    },
    {
      "cell_type": "markdown",
      "source": [
        "# **3. Modelado Predictivo**"
      ],
      "metadata": {
        "id": "VONyL9-iIKL5"
      }
    },
    {
      "cell_type": "code",
      "source": [],
      "metadata": {
        "id": "d39EljMSIMJj"
      },
      "execution_count": null,
      "outputs": []
    },
    {
      "cell_type": "markdown",
      "source": [
        "# **4.Interpretación y Conclusiones**"
      ],
      "metadata": {
        "id": "kKUH5hG4IMcB"
      }
    },
    {
      "cell_type": "code",
      "source": [],
      "metadata": {
        "id": "WfAv35_HIPyE"
      },
      "execution_count": null,
      "outputs": []
    }
  ]
}